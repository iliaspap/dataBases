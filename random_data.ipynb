{
 "cells": [
  {
   "cell_type": "code",
   "execution_count": 182,
   "metadata": {},
   "outputs": [
    {
     "name": "stdout",
     "output_type": "stream",
     "text": [
      "[['nfc_id', 'name', 'surname', 'date_of_birth', 'id_document_number', 'id_document_type', 'id_document_authority'], ['097', 'dPXrYLWzHqdBNxfBhzCmU', 'ISkObGG', '1980-05-22', 'l', 'O', 'pEefbiV'], ['23', 'ZYfen', 'ZXhJQOxWbpXuAktFfIQrsVVnla', '1901-04-26', 'By', 'dZf', 'oJyf'], ['4', 'BQmrlcG', 'zkTuxZBeTDVSqTS', '1949-03-18', 'ptZ', 'AeJt', 'pdKghoRAKWdtC'], ['4', 'Z', 'SNxskSuSx', '1978-06-02', 'NagrGMaAF', 'KyISMsxktxlinpThkxtRXgnO', 'dAinHNMzJio'], ['3286', 'Qgj', 'ThXRIUZOjYdvbipFhYFYtP', '1997-05-06', 'wbKxaRXNOzjUGj', 'AeGb', 'OJOdpEBLUbrjFkX'], ['017', 'EaEopc', 'wbWzwzh', '1919-07-24', 'yesECa', 'scbnKbpYIhllveyGcI', 'JxqGzYTgSwmtkyD'], ['8791', 'VeRAFn', 'USYQfoC', '1946-06-16', 'NnU', 'bwL', 'dq'], ['057', 'pWtGLYbvvpRKi', 'cRX', '1952-05-14', 'rC', 'pif', 'CfVxhzHs'], ['480', 'w', 'RlyUvmzlYHelONy', '1997-12-05', 'teGMdipIaGBoxdH', 'aUUkkJOJLMLQRPBaAyMg', 'OLqgBXqGqhAedOENKKu'], ['36', 'DzISGLjUOmJhKKdder', 'u', '1929-09-06', 'gmAUukug', 'pKzAxBBeu', 'ujvuD'], ['274', 'jnu', 'NdLXJdPPzerHqQQFuC', '1942-05-30', 'PJmqdDX', 'sgdBNTbiZ', 'KcXXwoygZKeYQMfbnqZbGoMBx'], ['83497', 'iKpSLD', 'hERVF', '1968-08-14', 'YvWm', 'TPAwnibiWYTMkTBCyzcBskJtQtQehX', 'UuKMKHE'], ['08175', 'ASovFb', 'nvXvIDTVSFEHkpnZMMXf', '1944-05-05', 'EWQcpd', 'aSQIlnKrVxWEGIcyImwYc', 'BxG'], ['093', 'rKVgTDdZXNJgt', 'komlh', '1935-12-07', 'hxYFHW', 'ICgNK', 'p'], ['6179', 'sRWyrxgXoWdnutGrOpAuazfYXG', 'suLSw', '1913-01-11', 'NeUVGHLNfooT', 'Q', 'lDdTBFQTDLmokLekWzfalQBNi'], ['6390', 'HMbnRzgkTPSHA', 'e', '1973-10-21', 'pWCLlHyYg', 'jJtD', 'ffGsWNISbcOYRGmf'], ['097', 'x', 'hDjOOqce', '1991-04-14', 'O', 'pV', 'cgdrPc'], ['2189', 'SiMRv', 'pbCGXNQE', '1971-11-28', 'jCPeK', 'ji', 'Trsszq'], ['48', 'APUKgSV', 'G', '2021-07-21', 'JMhe', 'azVXselxqLilRtvqNyHIpkC', 'NAmbJKKBUp'], ['03752', 'E', 'hcESLYsr', '1941-12-29', 'yOCzSz', 'OLiwadWTUxVgOsvMabSpZhQbT', 'clXZEAvS'], ['37056', 'hO', 'ioC', '1936-01-09', 'lYjN', 'J', 'vy'], ['68', 'nt', 'WQvHgoBbZGcLFxNt', '1901-06-25', 'VVdz', 'TU', 'Idmyl'], ['951', 'nkgQiTnyvivxXzocJEhwQIGd', 'rMCJuXhoyi', '2021-07-25', 'WUogChOdQCigIa', 'neXacACTN', 'ukteRhnxjT'], ['36', 'IZIEVziADxWx', 'jnuSeAy', '1972-06-24', 'erctCyqpC', 'ff', 'j'], ['368', 'QBSV', 'glEbBIToFlDLUFzDdJDCooxHg', '1948-07-05', 'H', 'ffaa', 'ZxaOF'], ['8', 'BT', 'FCiSyCofr', '2008-07-23', 'DcUmLh', 'qsJQbcLw', 'Tj'], ['4508', 'e', 'Dx', '1959-03-29', 'cBRUGHsHbfbohupKQ', 'nZwojnjBNwiYky', 'GVIIW'], ['073', 'xLmLd', 'ovttlqJyUNmRMczrbqsSVx', '2007-01-11', 'VkxzjqjRuVo', 'w', 'jUk'], ['9726', 'PkjCk', 'ccaSXtFJGnwSx', '2018-03-03', 'TzLQGZmxiLXHKPoNAzKY', 'mGCUyTBPLm', 'oF'], ['8472', 'OxhRAKVj', 'Uew', '1933-05-05', 'LARn', 'NbfOEOrDKAX', 'GpnaphMjY'], ['7', 'uErLAySYwXITGJgLeKHSoUbCkB', 'uDIHsoWljc', '2000-11-02', 'Zcg', 'ErnEL', 'JWNIzBufxsAi'], ['973', 'BGiWVaFBBjYZjLM', 'GFItRsyd', '1911-01-04', 'vZTOZrYdM', 'hOMvitSVdwzhQNN', 'yGmitZaiTlLIJZdixX'], ['17', 'YrrO', 'd', '1992-02-29', 'FmtUlwfsSR', 'YmhfWgDlndxuFYf', 'wnQGa'], ['213', 'GOTKINnr', 'faChVtQXvLiQueSs', '2011-12-28', 'zfM', 'd', 'tWrLEltz'], ['2', 'C', 'oAvyBc', '1943-06-20', 'zCo', 'V', 'MjyMCVhpcmHyUisLIK'], ['9761', 'rZWJTdDaZDOzOH', 'C', '1919-05-11', 'cJDxnjNRWe', 'jUaRQgRpccooa', 'dgtYYXIwqSb'], ['19752', 'Nujf', 'TiMRq', '1962-03-11', 'QPI', 'Fp', 'zA'], ['78', 'wTFFkKovghLEVdG', 'FBChM', '1924-06-13', 'U', 'o', 'ihGlMCmgygRbdpEcKMA'], ['752', 'ZZZcepPTkdJHB', 'pBIXGTssTmPjD', '1928-02-24', 'H', 'iXJEOtpIxso', 'P'], ['83679', 'KTdPRgnBQrjKHBjrPKEU', 'PryuH', '1944-02-02', 'gHz', 'xCVMDspVXhinqNeHWfdnRFQHxOVbb', 'sGN'], ['42395', 'rTH', 'lCqXrhqUTMUzF', '1917-05-10', 'Lz', 'Bb', 'cUjtegRadPZdKz'], ['0298', 'vwWuIXiwVIWhvJyvls', 'PesuNagzhqm', '1907-09-12', 'MCrMVkrpQ', 'wznsWmckEMJXNUJOUhrbZVo', 'jL'], ['785', 'BzsccmJ', 'rjcQHrrfI', '1992-06-18', 'uU', 'GzqrjgkUId', 'YbpVPmsROObhB'], ['7', 'lmKgokCuVifZWgWtPyPsMDWjnz', 'nEIxK', '1991-02-19', 'MpeZO', 'e', 'DfhYAFyatsT'], ['3794', 'DVS', 'xwuUphxAZO', '1908-06-27', 'ZkB', 'pNDNBvzDMF', 'ekagkGyGOtmHde'], ['29', 'VUVIrYu', 'bXB', '1919-03-18', 'SzuqAP', 'Ps', 'dcZhmkhGpERtbfjxSyjkONaNf'], ['45831', 'gfOebeQ', 'WWbvKZfyyacgevFlqp', '1994-12-11', 'cO', 'iUkWwYFINmEBXXiKWNt', 'I'], ['280', 'hfgBblJpOsCLOazT', 'VlKDTOQe', '1988-08-27', 'e', 'btErkNWBioEutm', 'c'], ['683', 'x', 'uoG', '2003-02-15', 'Npg', 'YNNyAwbVMVBcqjfw', 'GTidntmfUKUCOtrUjfwKUOWSXDQVYK'], ['5438', 'NUnEoWMCXVZVCCHa', 'ag', '1912-07-12', 'kdB', 'jCPhHnkivouAPijGVlGCn', 'XJU']]\n"
     ]
    }
   ],
   "source": [
    "import csv\n",
    "import random\n",
    "import string\n",
    "\n",
    "from datetime import *\n",
    "def random_date(min_year=1900, max_year=datetime.now().year, mode = 'date'):\n",
    "    if(mode == 'date'):\n",
    "        start = date(min_year, 1, 1)\n",
    "    elif(mode == 'datetime'):\n",
    "        start = datetime(min_year, 1, 1, 00, 00, 00)\n",
    "    years = max_year - min_year + 1\n",
    "    end = start + timedelta(days=365 * years)\n",
    "    if(mode == 'date'):\n",
    "        return str(start + (end - start) * random.random())\n",
    "    elif(mode == 'datetime'):\n",
    "        return str(start + (end - start) * random.random())[:-7]\n",
    "        \n",
    "\n",
    "#sample\n",
    "def random_string(strlen, chars = string.ascii_letters, mode = 'var', repeat = True):\n",
    "    if (mode == 'date'):\n",
    "        return random_date()\n",
    "    elif (mode == 'datetime'):\n",
    "        return random_date(mode = 'datetime')\n",
    "    elif(mode == 'var'):\n",
    "        strlen = random.randint(1,strlen)\n",
    "    if(repeat):\n",
    "        return ''.join(random.choice(chars) for i in range (random.randint(1,strlen)))\n",
    "    else:\n",
    "        return ''.join(random.sample(chars, strlen))\n",
    "    \n",
    "\n",
    "def random_row(rowlen, strlen, chars, mode, repeat): #strlen, chars, mode are lists\n",
    "    return [random_string(strlen[i], chars[i], mode[i], repeat[i]) for i in range(rowlen)]\n",
    "\n",
    "def random_table(attr_names, strlen, chars, mode, repeat, size):\n",
    "    res = [random_row(len(attr_names), strlen, chars, mode, repeat) for i in range (size)]\n",
    "    res.insert(0, attr_names)\n",
    "    return res\n",
    "\n",
    "letters = string.ascii_letters\n",
    "digits = string.digits\n",
    "allchars = letters+digits\n",
    "\n",
    "print(random_table(['nfc_id', 'name', 'surname', 'date_of_birth', 'id_document_number', 'id_document_type', \n",
    "                    'id_document_authority'], \n",
    "                   [5, 31, 31, 10, 20, 31, 31],\n",
    "                   [digits, letters, letters, letters, letters, letters, letters],\n",
    "                   ['var', 'var', 'var', 'date', 'var', 'var', 'var'],\n",
    "                   [False, True, True, True, True, True, True],\n",
    "                   50))\n",
    "\n",
    "# with open('Customers.csv', 'w') as csv_file:\n",
    "#     csv_writer = csv.writer(csv_file)\n",
    "    "
   ]
  },
  {
   "cell_type": "code",
   "execution_count": 150,
   "metadata": {},
   "outputs": [
    {
     "data": {
      "text/plain": [
       "'2104-10-17'"
      ]
     },
     "execution_count": 150,
     "metadata": {},
     "output_type": "execute_result"
    }
   ],
   "source": [
    "import string\n",
    "from datetime import *\n",
    "def gen_datetime(min_year=1900, max_year=datetime.now().year):\n",
    "    # generate a datetime in format yyyy-mm-dd hh:mm:ss.000000\n",
    "#     start = datetime(min_year, 1, 1, 00, 00, 00)\n",
    "    start = date(1999, 12, 11)\n",
    "    years = max_year - min_year + 1\n",
    "    end = start + timedelta(days=365 * years)\n",
    "    return start + (end - start) * random.random()\n",
    "str(gen_datetime())"
   ]
  }
 ],
 "metadata": {
  "kernelspec": {
   "display_name": "Python 3",
   "language": "python",
   "name": "python3"
  },
  "language_info": {
   "codemirror_mode": {
    "name": "ipython",
    "version": 3
   },
   "file_extension": ".py",
   "mimetype": "text/x-python",
   "name": "python",
   "nbconvert_exporter": "python",
   "pygments_lexer": "ipython3",
   "version": "3.8.5"
  }
 },
 "nbformat": 4,
 "nbformat_minor": 4
}
