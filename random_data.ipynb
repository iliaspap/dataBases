{
 "cells": [
  {
   "cell_type": "code",
   "execution_count": 1,
   "metadata": {},
   "outputs": [],
   "source": [
    "import csv\n",
    "import random\n",
    "import string\n",
    "import names\n",
    "import datetime"
   ]
  },
  {
   "cell_type": "markdown",
   "metadata": {},
   "source": [
    "# Define generator functions"
   ]
  },
  {
   "cell_type": "code",
   "execution_count": 2,
   "metadata": {},
   "outputs": [],
   "source": [
    "def gen_datetime(min_year=1900, max_year=datetime.datetime.now().year, mode = 'date'):\n",
    "    if(mode == 'date'):\n",
    "        start = datetime.date(min_year, 1, 1)\n",
    "    elif(mode == 'datetime'):\n",
    "        start = datetime.datetime(min_year, 1, 1, 00, 00, 00)\n",
    "    years = max_year - min_year + 1\n",
    "    end = start + datetime.timedelta(days=365 * years)\n",
    "    if(mode == 'date'):\n",
    "        return str(start + (end - start) * random.random())\n",
    "    elif(mode == 'datetime'):\n",
    "        return str(start + (end - start) * random.random())[:-7]"
   ]
  },
  {
   "cell_type": "code",
   "execution_count": 3,
   "metadata": {},
   "outputs": [],
   "source": [
    "def gen_customers(num):\n",
    "    result = []\n",
    "    for i in range(1,num+1):\n",
    "        result.append([                   \n",
    "            names.get_first_name(), \n",
    "            names.get_last_name(),  \n",
    "            str(gen_datetime(1900, 2000)),\n",
    "            random.choice(string.ascii_letters) + random.choice(string.ascii_letters) + str(random.randint(100000, 999999)),\n",
    "            random.choice([\"ID\", \"Passport\"]),\n",
    "            \"Authority\" + str(random.randint(1,11))\n",
    "            ])\n",
    "    return result"
   ]
  },
  {
   "cell_type": "code",
   "execution_count": 4,
   "metadata": {},
   "outputs": [],
   "source": [
    "def gen_phones(customer_list):\n",
    "    result = []\n",
    "    for i in range(1, len(customer_list)+1):\n",
    "        for j in range(1, random.randint(2,3)):\n",
    "            result.append([i, random.randint(100000000000,999999999999)])\n",
    "    return result"
   ]
  },
  {
   "cell_type": "code",
   "execution_count": 5,
   "metadata": {},
   "outputs": [],
   "source": [
    "def gen_emails(customer_list):\n",
    "    result = []\n",
    "    for i in range(1, len(customer_list)+1):\n",
    "        for j in range(1, random.randint(2,3)):\n",
    "            result.append([\n",
    "                i,\n",
    "                ''.join(random.choices(string.ascii_lowercase + string.digits, k = random.randint(4,10))) \n",
    "                + \"@\"\n",
    "                + ''.join(random.choices(string.ascii_lowercase + string.digits, k = random.randint(4,8)))\n",
    "                + \".com\"\n",
    "                ])\n",
    "    return result"
   ]
  },
  {
   "cell_type": "code",
   "execution_count": 6,
   "metadata": {},
   "outputs": [],
   "source": [
    "def gen_rooms(num):\n",
    "    result = []\n",
    "    for i in range(1, num+1):\n",
    "        result.append([random.randint(1,3), 'Room ' + str(i), 'Room on floor ' + str(i//(num//5))])\n",
    "    return result   "
   ]
  },
  {
   "cell_type": "code",
   "execution_count": 7,
   "metadata": {},
   "outputs": [],
   "source": [
    "def gen_special_spaces(bars, restaurants, work, gyms, saunas, hair):\n",
    "    result = []\n",
    "    for (num, t) in [(bars, 'Bar'), (restaurants, 'Restaurant'), \n",
    "                     (work, 'Work space'), (gyms, 'Gym'), (saunas, 'Sauna'), (hair, 'Hairdresser')]:\n",
    "        for i in range(1, num+1):\n",
    "            result.append([0, t + ' '+ str(i), t + ' on floor 0'])\n",
    "    return result"
   ]
  },
  {
   "cell_type": "markdown",
   "metadata": {},
   "source": [
    "# Generate data"
   ]
  },
  {
   "cell_type": "code",
   "execution_count": 8,
   "metadata": {},
   "outputs": [],
   "source": [
    "customers = gen_customers(100)\n",
    "with open('csv/Customer.csv', 'w', newline = '') as csvfile:\n",
    "    writer = csv.writer(csvfile)\n",
    "    writer.writerow(['name', 'surname', 'date_of_birth', 'id_document_number', 'id_document_type', \n",
    "                    'id_document_authority'])\n",
    "    for c in customers:\n",
    "        writer.writerow(c)"
   ]
  },
  {
   "cell_type": "code",
   "execution_count": 9,
   "metadata": {},
   "outputs": [],
   "source": [
    "phones = gen_phones(customers)\n",
    "with open('csv/instPhone.csv', 'w', newline = '') as csvfile:\n",
    "    writer = csv.writer(csvfile)\n",
    "    writer.writerow(['nfc_id', 'phone'])\n",
    "    for p in phones:\n",
    "        writer.writerow(p)"
   ]
  },
  {
   "cell_type": "code",
   "execution_count": 10,
   "metadata": {},
   "outputs": [],
   "source": [
    "emails = gen_emails(customers)\n",
    "with open('csv/instEmail.csv', 'w', newline = '') as csvfile:\n",
    "    writer = csv.writer(csvfile)\n",
    "    writer.writerow(['nfc_id', 'email'])\n",
    "    for e in emails:\n",
    "        writer.writerow(e)"
   ]
  },
  {
   "cell_type": "code",
   "execution_count": 11,
   "metadata": {},
   "outputs": [],
   "source": [
    "services = [['service_description', 'needs_registration'], ['Drinks at the bar', 0], \n",
    "            ['Food and drinks at the restaurant', 0], ['Meeting room', 1], ['Gym', 1],\n",
    "            ['Sauna', 1], ['Hairdressing', 0], ['Room stay', 1] ]\n",
    "with open ('csv/Service.csv', 'w', newline = '') as csvfile:\n",
    "    writer = csv.writer(csvfile)\n",
    "    for s in services:\n",
    "        writer.writerow(s)"
   ]
  },
  {
   "cell_type": "code",
   "execution_count": 12,
   "metadata": {},
   "outputs": [],
   "source": [
    "bars, restaurants, work, gyms, saunas, hair, rooms = 6, 4, 10, 4, 10, 1, 400\n",
    "\n",
    "room_spaces = gen_rooms(rooms)\n",
    "special_spaces = gen_special_spaces(bars, restaurants, work, gyms, saunas, hair)\n",
    "spaces = special_spaces + room_spaces\n",
    "with open('csv/Space.csv', 'w', newline = '') as csvfile:\n",
    "    writer = csv.writer(csvfile)\n",
    "    writer.writerow(['number_of_beds',  'name', 'description_location' ])\n",
    "    for s in spaces:\n",
    "        writer.writerow(s)\n",
    "\n",
    "offers = []\n",
    "i = 1\n",
    "j = 1\n",
    "for num in [bars, restaurants, work, gyms, saunas, hair, rooms]:\n",
    "    for k in range(1, num+1):\n",
    "        offers.append([i, j])\n",
    "        i += 1\n",
    "    j += 1\n",
    "\n",
    "with open('csv/Offers.csv', 'w', newline = '') as csvfile:\n",
    "    writer = csv.writer(csvfile)\n",
    "    writer.writerow(['space_id', 'service_id'])\n",
    "    for o in offers:\n",
    "        writer.writerow(o)  "
   ]
  },
  {
   "cell_type": "markdown",
   "metadata": {},
   "source": [
    "## Ιδέα για να φτιάξουμε εγγραφές, προσβάσεις, επισκέψεις, χρεώσεις.\n",
    "\n",
    "Εγγραφές:\n",
    "Για κάθε πελάτη διάλεξε μία ημερομηνία στους τελευταίους 2 μήνες, εκείνη τη μέρα **εγγράφεται** σε κάποιες υπηρεσίες και αποκτά **πρόσβαση** στους χώρους τους, επιπλέον εγγράφεται σίγουρα στο room stay και αποκτά πρόσβαση σε ένα τυχαίο δωμάτιο.\n",
    "\n",
    "Επισκέψεις:\n",
    "Από τη μέρα των εγγραφών του και για κάθε μέρα μέχρι σήμερα, ο κάθε πελάτης κάνει κάποιες ( τυχαίες ή σταθερες) **επισκέψεις** σε χώρους στους οποίους έχει πρόσβαση. σε κάθε επίσκεψη κάνει και μία **χρέωση** τυχαίου κόστους."
   ]
  },
  {
   "cell_type": "markdown",
   "metadata": {},
   "source": [
    "registers = []\n",
    "visits = []\n",
    "transactions = []\n",
    "\n",
    "empty_rooms = [i[0] for i in offers if i[1] == 7]\n",
    "\n",
    "for i in range(0,len(customers)):\n",
    "    \n",
    "    # Decide the services available to the customer\n",
    "    registered_services = [7]\n",
    "    temp = [3,4,5]\n",
    "    random.shuffle(temp)\n",
    "    for j in range(0, random.randint(1,3)):\n",
    "        registered_services.append(temp[j])\n",
    "    \n",
    "    # Generate a registration datetime\n",
    "    mydatetime  = datetime.datetime.now() - datetime.timedelta(days = random.randint(40,60), \n",
    "                                                                          hours = random.randint(0, 24),\n",
    "                                                                          minutes = random.randint(0, 60),\n",
    "                                                                          seconds = random.randint(0, 60))\n",
    "    \n",
    "    days_since_registration =  (datetime.datetime.now() - mydatetime).days\n",
    "    \n",
    "    # Registration generation for this customer is finished, append it to the registration list \n",
    "    registers.append((registered_services, str(mydatetime)[:-7]))\n",
    "\n",
    "    # All services available to the customer\n",
    "    available_services =  [1,2,6] + registered_services\n",
    "    \n",
    "    # The areas accessible by the customer\n",
    "    a = random.choice(empty_rooms) # Pick their room\n",
    "    empty_rooms.remove(a) # It is no longer empty\n",
    "    available_spaces = [i[0] for i in offers if i[1] in available_services and i[1] != 7] + [a]\n",
    "    \n",
    "    # Create customer visits and transactions\n",
    "    for j in range(1, 4*days_since_registration):\n",
    "        visited_space = random.choice(available_spaces)\n",
    "        arrival_datetime = mydatetime + datetime.timedelta(minutes = random.randint(1,10), \n",
    "                                                             seconds = random.randint(0,60))\n",
    "        exit_datetime = arrival_datetime + datetime.timedelta(hours = random.randint(2,4), \n",
    "                                      minutes = random.randint(0,60),\n",
    "                                      seconds = random.randint(0,60))\n",
    "        visits.append([i+1, visited_space, str(arrival_datetime)[:-7], str(exit_datetime)[:-7]])\n",
    "        if offers[visited_space-1][1] != 7:\n",
    "            transactions.append([i+1, offers[visited_space-1][1], \n",
    "                                 str(exit_datetime + datetime.timedelta(minutes = random.randint(10,20), \n",
    "                                                                    seconds = random.randint(0,60)))[:-7],\n",
    "                                'Used the service', round(random.uniform(1,100),3)])\n",
    "        mydatetime = exit_datetime\n",
    "            \n",
    "# Create the Registers entries\n",
    "with open('csv/Registers.csv', 'w', newline='') as csvfile:\n",
    "    writer = csv.writer(csvfile)\n",
    "    writer.writerow(['nfc_id', 'service_id', 'registration_datetime'])\n",
    "    for i in range(0, len(registers)):\n",
    "        for r in registers[i][0]:\n",
    "            writer.writerow([i+1, r, registers[i][1]])\n",
    "\n",
    "with open('csv/Visits.csv', 'w', newline='') as csvfile:\n",
    "    writer = csv.writer(csvfile)\n",
    "    writer.writerow(['nfc_id', 'space_id', 'arrival_datetime', 'exit_datetime'])\n",
    "    for v in visits:\n",
    "        writer.writerow(v)\n",
    "        \n",
    "with open('csv/Service_charge.csv', 'w', newline='') as csvfile:\n",
    "    writer = csv.writer(csvfile)\n",
    "    writer.writerow(['nfc_id', 'service_id', 'service_charge_datetime', 'description', 'amount'])\n",
    "    for t in transactions:\n",
    "        writer.writerow(t)"
   ]
  }
 ],
 "metadata": {
  "kernelspec": {
   "display_name": "Python 3",
   "language": "python",
   "name": "python3"
  },
  "language_info": {
   "codemirror_mode": {
    "name": "ipython",
    "version": 3
   },
   "file_extension": ".py",
   "mimetype": "text/x-python",
   "name": "python",
   "nbconvert_exporter": "python",
   "pygments_lexer": "ipython3",
   "version": "3.9.5"
  }
 },
 "nbformat": 4,
 "nbformat_minor": 4
}
