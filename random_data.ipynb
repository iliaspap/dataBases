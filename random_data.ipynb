{
 "cells": [
  {
   "cell_type": "code",
   "execution_count": 1,
   "metadata": {},
   "outputs": [],
   "source": [
    "import csv\n",
    "import random\n",
    "import string\n",
    "import names\n",
    "from datetime import *"
   ]
  },
  {
   "cell_type": "code",
   "execution_count": 2,
   "metadata": {},
   "outputs": [],
   "source": [
    "def gen_datetime(min_year=1900, max_year=datetime.now().year, mode = 'date'):\n",
    "    if(mode == 'date'):\n",
    "        start = date(min_year, 1, 1)\n",
    "    elif(mode == 'datetime'):\n",
    "        start = datetime(min_year, 1, 1, 00, 00, 00)\n",
    "    years = max_year - min_year + 1\n",
    "    end = start + timedelta(days=365 * years)\n",
    "    if(mode == 'date'):\n",
    "        return str(start + (end - start) * random.random())\n",
    "    elif(mode == 'datetime'):\n",
    "        return str(start + (end - start) * random.random())[:-7]"
   ]
  },
  {
   "cell_type": "code",
   "execution_count": 63,
   "metadata": {},
   "outputs": [],
   "source": [
    "def gen_customers(num):\n",
    "    result = []\n",
    "    for i in range(1,num+1):\n",
    "        result.append([                      \n",
    "            names.get_first_name(), \n",
    "            names.get_last_name(),  \n",
    "            str(gen_datetime(1900, 2000)),\n",
    "            random.choice(string.ascii_letters) + random.choice(string.ascii_letters) + str(random.randint(100000, 999999)),\n",
    "            random.choice([\"ID\", \"Passport\"]),\n",
    "            \"Authority\" + str(random.randint(1,11))\n",
    "            ])\n",
    "    return result"
   ]
  },
  {
   "cell_type": "code",
   "execution_count": 67,
   "metadata": {},
   "outputs": [],
   "source": [
    "def gen_phones(customer_list):\n",
    "    result = []\n",
    "    for i in range(1, len(customer_list)+1):\n",
    "        for j in range(1, random.randint(2,3)):\n",
    "            result.append([i, random.randint(100000000000,999999999999)])\n",
    "    return result"
   ]
  },
  {
   "cell_type": "code",
   "execution_count": 68,
   "metadata": {},
   "outputs": [],
   "source": [
    "def gen_emails(customer_list):\n",
    "    result = []\n",
    "    for i in range(1, len(customer_list)+1):\n",
    "        for j in range(1, random.randint(2,3)):\n",
    "            result.append([\n",
    "                i,\n",
    "                ''.join(random.choices(string.ascii_lowercase + string.digits, k = random.randint(4,10))) \n",
    "                + \"@\"\n",
    "                + ''.join(random.choices(string.ascii_lowercase + string.digits, k = random.randint(4,8)))\n",
    "                + \".com\"\n",
    "                ])\n",
    "    return result"
   ]
  },
  {
   "cell_type": "code",
   "execution_count": 79,
   "metadata": {},
   "outputs": [],
   "source": [
    "def gen_spaces(num):\n",
    "    result = []\n",
    "    for i in range(1, num+1):\n",
    "        result.append([random.randint(1,3), 'Room ' + str(i), 'Room on floor ' + str(i//(num/5))])\n",
    "    return result   "
   ]
  },
  {
   "cell_type": "code",
   "execution_count": 73,
   "metadata": {},
   "outputs": [],
   "source": [
    "def gen_special_spaces(bars, restaurant, work, gyms, saunas, hair):\n",
    "    result = []\n",
    "    for (num, t) in [(bars, 'Bar'), (restaurant, 'Restaurant'), \n",
    "                     (work, 'Work space'), (gyms, 'Gym'), (saunas, 'Sauna'), (hair, 'hairdresser')]:\n",
    "        for i in range(1, num):\n",
    "            result.append([0, t + ' '+ str(i), t + ' on floor 0'])\n",
    "    return result"
   ]
  },
  {
   "cell_type": "code",
   "execution_count": 74,
   "metadata": {},
   "outputs": [],
   "source": [
    "customers = gen_customers(100)\n",
    "with open('customers.csv', 'w', newline = '') as csvfile:\n",
    "    writer = csv.writer(csvfile)\n",
    "    writer.writerow(['name', 'surname', 'date_of_birth', 'id_document_number', 'id_document_type', \n",
    "                    'id_document_authority'])\n",
    "    for c in customers:\n",
    "        writer.writerow(c)"
   ]
  },
  {
   "cell_type": "code",
   "execution_count": 75,
   "metadata": {},
   "outputs": [],
   "source": [
    "phones = gen_phones(customers)\n",
    "with open('phones.csv', 'w', newline = '') as csvfile:\n",
    "    writer = csv.writer(csvfile)\n",
    "    writer.writerow(['nfc_id', 'phone'])\n",
    "    for p in phones:\n",
    "        writer.writerow(p)"
   ]
  },
  {
   "cell_type": "code",
   "execution_count": 76,
   "metadata": {},
   "outputs": [],
   "source": [
    "emails = gen_emails(customers)\n",
    "with open('emails.csv', 'w', newline = '') as csvfile:\n",
    "    writer = csv.writer(csvfile)\n",
    "    writer.writerow(['nfc_id', 'email'])\n",
    "    for e in emails:\n",
    "        writer.writerow(e)"
   ]
  },
  {
   "cell_type": "code",
   "execution_count": 80,
   "metadata": {},
   "outputs": [],
   "source": [
    "spaces = gen_spaces(400)\n",
    "special_spaces = gen_special_spaces(6, 4, 10, 4, 10, 1)\n",
    "with open('spaces.csv', 'w', newline = '') as csvfile:\n",
    "    writer = csv.writer(csvfile)\n",
    "    writer.writerow(['number_of_beds',  'name', 'description_location' ])\n",
    "    for s in special_spaces:\n",
    "        writer.writerow(s)\n",
    "    for s in spaces:\n",
    "        writer.writerow(s)"
   ]
  },
  {
   "cell_type": "code",
   "execution_count": null,
   "metadata": {},
   "outputs": [],
   "source": [
    "def random_date(min_year=1900, max_year=datetime.now().year, mode = 'date'):\n",
    "    if(mode == 'date'):\n",
    "        start = date(min_year, 1, 1)\n",
    "    elif(mode == 'datetime'):\n",
    "        start = datetime(min_year, 1, 1, 00, 00, 00)\n",
    "    years = max_year - min_year + 1\n",
    "    end = start + timedelta(days=365 * years)\n",
    "    if(mode == 'date'):\n",
    "        return str(start + (end - start) * random.random())\n",
    "    elif(mode == 'datetime'):\n",
    "        return str(start + (end - start) * random.random())[:-7]\n",
    "        \n",
    "\n",
    "def random_string(strlen, chars = string.ascii_letters, mode = 'var', repeat = True):\n",
    "    if (mode == 'date'):\n",
    "        return random_date()\n",
    "    elif (mode == 'datetime'):\n",
    "        return random_date(mode = 'datetime')\n",
    "    elif(mode == 'var'):\n",
    "        strlen = random.randint(1,strlen)\n",
    "    if(repeat):\n",
    "        return ''.join(random.choice(chars) for i in range (random.randint(1,strlen)))\n",
    "    else:\n",
    "        return ''.join(random.sample(chars, strlen))\n",
    "    \n",
    "\n",
    "def random_row(rowlen, strlen, chars, mode, repeat): #strlen, chars, mode are lists\n",
    "    return [random_string(strlen[i], chars[i], mode[i], repeat[i]) for i in range(rowlen)]\n",
    "\n",
    "#attr_names: βάζεις λίστα των χαρακτηριστικών\n",
    "#strlen: λίστα μηκών των πεδίων\n",
    "#chars: string με όλους τους χαρακτήρες που μπορούν να χρησιμοποιηθούν για την παραγωγή\n",
    "#mode: var όταν το strlen δηλώνει μέγιστο μήκος, fix αλλιώς. Για ημερομηνίες βάζεις 'date', 'datetime'\n",
    "#repeat: Ήθελα να γίνεται το εξής: True-> μοναδικές τιμές, False: μπορούν να επαναλαμβάνονται, αλλά το σκάτωσα\n",
    "#size: πλήθος tuples\n",
    "\n",
    "def random_table(attr_names, strlen, chars, mode, repeat, size):\n",
    "    res = [random_row(len(attr_names), strlen, chars, mode, repeat) for i in range (size)]\n",
    "    res.insert(0, attr_names)\n",
    "    return res\n",
    "\n",
    "letters = string.ascii_letters\n",
    "digits = string.digits\n",
    "allchars = letters+digits\n",
    "\n",
    "print(random_table(['nfc_id', 'name', 'surname', 'date_of_birth', 'id_document_number', 'id_document_type', \n",
    "                    'id_document_authority'], \n",
    "                   [5, 31, 31, 10, 20, 31, 31],\n",
    "                   [digits, letters, letters, letters, letters, letters, letters],\n",
    "                   ['var', 'var', 'var', 'date', 'var', 'var', 'var'],\n",
    "                   [False, True, True, True, True, True, True],\n",
    "                   50))\n",
    "\n",
    "# with open('Customers.csv', 'w') as csv_file:\n",
    "#     csv_writer = csv.writer(csv_file)\n",
    "    "
   ]
  }
 ],
 "metadata": {
  "kernelspec": {
   "display_name": "Python 3",
   "language": "python",
   "name": "python3"
  },
  "language_info": {
   "codemirror_mode": {
    "name": "ipython",
    "version": 3
   },
   "file_extension": ".py",
   "mimetype": "text/x-python",
   "name": "python",
   "nbconvert_exporter": "python",
   "pygments_lexer": "ipython3",
   "version": "3.9.5"
  }
 },
 "nbformat": 4,
 "nbformat_minor": 4
}
