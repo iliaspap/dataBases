{
 "cells": [
  {
   "cell_type": "code",
   "execution_count": 2,
   "metadata": {},
   "outputs": [],
   "source": [
    "import csv\n",
    "import random\n",
    "import string\n",
    "import names\n",
    "from datetime import *"
   ]
  },
  {
   "cell_type": "code",
   "execution_count": 3,
   "metadata": {},
   "outputs": [],
   "source": [
    "def gen_datetime(min_year=1900, max_year=datetime.now().year, mode = 'date'):\n",
    "    if(mode == 'date'):\n",
    "        start = date(min_year, 1, 1)\n",
    "    elif(mode == 'datetime'):\n",
    "        start = datetime(min_year, 1, 1, 00, 00, 00)\n",
    "    years = max_year - min_year + 1\n",
    "    end = start + timedelta(days=365 * years)\n",
    "    if(mode == 'date'):\n",
    "        return str(start + (end - start) * random.random())\n",
    "    elif(mode == 'datetime'):\n",
    "        return str(start + (end - start) * random.random())[:-7]"
   ]
  },
  {
   "cell_type": "code",
   "execution_count": 36,
   "metadata": {},
   "outputs": [],
   "source": [
    "def gen_customers(num):\n",
    "    result = []\n",
    "    for i in range(1,num+1):\n",
    "        result.append([                   \n",
    "            names.get_first_name(), \n",
    "            names.get_last_name(),  \n",
    "            str(gen_datetime(1900, 2000)),\n",
    "            random.choice(string.ascii_letters) + random.choice(string.ascii_letters) + str(random.randint(100000, 999999)),\n",
    "            random.choice([\"ID\", \"Passport\"]),\n",
    "            \"Authority\" + str(random.randint(1,11))\n",
    "            ])\n",
    "    return result"
   ]
  },
  {
   "cell_type": "code",
   "execution_count": 5,
   "metadata": {},
   "outputs": [],
   "source": [
    "def gen_phones(customer_list):\n",
    "    result = []\n",
    "    for i in range(1, len(customer_list)+1):\n",
    "        for j in range(1, random.randint(2,3)):\n",
    "            result.append([i, random.randint(100000000000,999999999999)])\n",
    "    return result"
   ]
  },
  {
   "cell_type": "code",
   "execution_count": 6,
   "metadata": {},
   "outputs": [],
   "source": [
    "def gen_emails(customer_list):\n",
    "    result = []\n",
    "    for i in range(1, len(customer_list)+1):\n",
    "        for j in range(1, random.randint(2,3)):\n",
    "            result.append([\n",
    "                i,\n",
    "                ''.join(random.choices(string.ascii_lowercase + string.digits, k = random.randint(4,10))) \n",
    "                + \"@\"\n",
    "                + ''.join(random.choices(string.ascii_lowercase + string.digits, k = random.randint(4,8)))\n",
    "                + \".com\"\n",
    "                ])\n",
    "    return result"
   ]
  },
  {
   "cell_type": "code",
   "execution_count": 7,
   "metadata": {},
   "outputs": [],
   "source": [
    "def gen_spaces(num):\n",
    "    result = []\n",
    "    for i in range(1, num+1):\n",
    "        result.append([random.randint(1,3), 'Room ' + str(i), 'Room on floor ' + str(i//(num//5))])\n",
    "    return result   "
   ]
  },
  {
   "cell_type": "code",
   "execution_count": 8,
   "metadata": {},
   "outputs": [],
   "source": [
    "def gen_special_spaces(bars, restaurant, work, gyms, saunas, hair):\n",
    "    result = []\n",
    "    for (num, t) in [(bars, 'Bar'), (restaurant, 'Restaurant'), \n",
    "                     (work, 'Work space'), (gyms, 'Gym'), (saunas, 'Sauna'), (hair, 'hairdresser')]:\n",
    "        for i in range(1, num):\n",
    "            result.append([0, t + ' '+ str(i), t + ' on floor 0'])\n",
    "    return result"
   ]
  },
  {
   "cell_type": "code",
   "execution_count": 37,
   "metadata": {},
   "outputs": [],
   "source": [
    "customers = gen_customers(100)\n",
    "with open('customers.csv', 'w', newline = '') as csvfile:\n",
    "    writer = csv.writer(csvfile)\n",
    "    writer.writerow(['name', 'surname', 'date_of_birth', 'id_document_number', 'id_document_type', \n",
    "                    'id_document_authority'])\n",
    "    for c in customers:\n",
    "        writer.writerow(c)"
   ]
  },
  {
   "cell_type": "code",
   "execution_count": 75,
   "metadata": {},
   "outputs": [],
   "source": [
    "phones = gen_phones(customers)\n",
    "with open('phones.csv', 'w', newline = '') as csvfile:\n",
    "    writer = csv.writer(csvfile)\n",
    "    writer.writerow(['nfc_id', 'phone'])\n",
    "    for p in phones:\n",
    "        writer.writerow(p)"
   ]
  },
  {
   "cell_type": "code",
   "execution_count": 76,
   "metadata": {},
   "outputs": [],
   "source": [
    "emails = gen_emails(customers)\n",
    "with open('emails.csv', 'w', newline = '') as csvfile:\n",
    "    writer = csv.writer(csvfile)\n",
    "    writer.writerow(['nfc_id', 'email'])\n",
    "    for e in emails:\n",
    "        writer.writerow(e)"
   ]
  },
  {
   "cell_type": "code",
   "execution_count": 82,
   "metadata": {},
   "outputs": [],
   "source": [
    "spaces = gen_spaces(400)\n",
    "special_spaces = gen_special_spaces(6, 4, 10, 4, 10, 1)\n",
    "with open('spaces.csv', 'w', newline = '') as csvfile:\n",
    "    writer = csv.writer(csvfile)\n",
    "    writer.writerow(['number_of_beds',  'name', 'description_location' ])\n",
    "    for s in special_spaces:\n",
    "        writer.writerow(s)\n",
    "    for s in spaces:\n",
    "        writer.writerow(s)"
   ]
  }
 ],
 "metadata": {
  "kernelspec": {
   "display_name": "Python 3",
   "language": "python",
   "name": "python3"
  },
  "language_info": {
   "codemirror_mode": {
    "name": "ipython",
    "version": 3
   },
   "file_extension": ".py",
   "mimetype": "text/x-python",
   "name": "python",
   "nbconvert_exporter": "python",
   "pygments_lexer": "ipython3",
   "version": "3.9.5"
  }
 },
 "nbformat": 4,
 "nbformat_minor": 4
}
